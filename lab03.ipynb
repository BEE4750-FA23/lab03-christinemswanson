{
  "cells": [
    {
      "cell_type": "markdown",
      "id": "a4dbeeed-1482-4055-871b-4d7a2c2a511e",
      "metadata": {},
      "source": [
        "# BEE 4750 Lab 3: Linear Programming with JuMP\n",
        "\n",
        "**Name**: Christine Swanson\n",
        "\n",
        "**ID**: cms549\n",
        "\n",
        "> **Due Date**\n",
        ">\n",
        "> Friday, 10/13/23, 9:00pm\n",
        "\n",
        "## Setup\n",
        "\n",
        "The following code should go at the top of most Julia scripts; it will\n",
        "load the local package environment and install any needed packages. You\n",
        "will see this often and shouldn’t need to touch it."
      ]
    },
    {
      "cell_type": "code",
      "execution_count": 39,
      "id": "e4a7ead8",
      "metadata": {},
      "outputs": [
        {
          "name": "stderr",
          "output_type": "stream",
          "text": [
            "\u001b[32m\u001b[1m  Activating\u001b[22m\u001b[39m project at `c:\\Users\\chris\\Box\\classwork\\2023_Fall\\BEE5750\\labs\\lab03-christinemswanson`\n"
          ]
        }
      ],
      "source": [
        "import Pkg\n",
        "Pkg.activate(\".\")\n",
        "Pkg.instantiate()"
      ]
    },
    {
      "cell_type": "code",
      "execution_count": 40,
      "id": "bcb91547",
      "metadata": {},
      "outputs": [],
      "source": [
        "using JuMP # optimization modeling syntax\n",
        "using HiGHS # optimization solver\n",
        "using Plots # plotting"
      ]
    },
    {
      "cell_type": "markdown",
      "id": "e7c75237-e4a0-44dd-accc-3ba4b3a0b33e",
      "metadata": {},
      "source": [
        "## Overview\n",
        "\n",
        "In this lab, you will write and solve a resource allocation example\n",
        "using `JuMP.jl`. `JuMP.jl` provides an intuitive syntax for writing,\n",
        "solving, and querying optimization problems.\n",
        "\n",
        "For an example of using `JuMP.jl` to solve linear programs, see [the\n",
        "relevant tutorial on the class\n",
        "website](https://viveks.me/environmental-systems-analysis/tutorials/julia-jump.html).\n",
        "\n",
        "Free free to delete some of the illustrative cells and code blocks in\n",
        "your notebook as you go through and solve the lab problems…this might\n",
        "help reduce some potential confusion while grading about what your\n",
        "answer is."
      ]
    },
    {
      "cell_type": "markdown",
      "id": "b3357076-5bea-4fbb-a560-286b35fd52af",
      "metadata": {},
      "source": [
        "## Introduction\n",
        "\n",
        "Your task is to decide how much lumber to produce to maximize profit\n",
        "from wood sales. You can purchase wood from a managed forest, which\n",
        "consists of spruce (320,000 bf) and fir (720,000 bf). Spruce costs\n",
        "\\$0.12 per bf to purchase and fir costs \\$0.08 per bf.\n",
        "\n",
        "At the lumber mill, wood can be turned into plywood of various grades\n",
        "(see <a href=\"#tbl-inputs\" class=\"quarto-xref\">Table 1</a> for how much\n",
        "wood of each type is required for and the revenue from each grade). Any\n",
        "excess wood is sent to be recycled into particle board. This resource\n",
        "allocation problem is diagrammed in\n",
        "<a href=\"#fig-schematic\" class=\"quarto-xref\">Figure 1</a>.\n",
        "\n",
        "| Plywood Grade | Inputs (bf/bf plywood) | Revenue (\\$/1000 bf) |\n",
        "|:-------------:|:----------------------:|:--------------------:|\n",
        "|       1       |   0.5 (S) + 1.5 (F)    |         400          |\n",
        "|       2       |   1.0 (S) + 2.0 (F)    |         520          |\n",
        "|       3       |   1.5 (S) + 2.0 (F)    |         700          |\n",
        "\n",
        "Table 1: Wood inputs and revenue by plywood grade. S refers to spruce\n",
        "inputs, F fir inputs."
      ]
    },
    {
      "cell_type": "markdown",
      "id": "e64f4869-4c05-4097-9118-15c5583c58a3",
      "metadata": {},
      "source": [
        "<figure id=\"fig-schematic\">\n",
        "<img src=\"attachment:lab03_files/figure-ipynb/mermaid-figure-1.png\" />\n",
        "<figcaption>Figure 1: Flowchat of the resource allocation problem in\n",
        "this lab.</figcaption>\n",
        "</figure>\n",
        "\n",
        "## Problems (10 points)"
      ]
    },
    {
      "cell_type": "markdown",
      "id": "4909da23-bc65-4291-ac3a-b991ffd66163",
      "metadata": {},
      "source": [
        "### Problem 1: Problem Formulation (5 points)\n",
        "\n",
        "In this problem, you will go through the steps of formulating a linear\n",
        "program for this problem."
      ]
    },
    {
      "cell_type": "markdown",
      "id": "2071aef6-e8a9-4285-a5b9-59f65a25b5ac",
      "metadata": {},
      "source": [
        "#### Problem 1.1 (1 point)\n",
        "\n",
        "What are your decision variables? Clearly define your notation,\n",
        "including what variables you are using, what they mean, and what their\n",
        "units are."
      ]
    },
    {
      "cell_type": "markdown",
      "id": "95c40f65",
      "metadata": {},
      "source": [
        "**Decision Variables:** g1, g2, g3, g4, g5, g6. Here are the descriptions of the decision variables: \n",
        "\n",
        "g1: the amount of lumber produced from spruce for Grade 1-plywood, units in board feet \n",
        "\n",
        "g2: the amount of lumber produced from fir for Grade 1-plywood, units in board feet\n",
        "\n",
        "g3: the amount of lumber produced from spruce for Grade 2-plywood, units in board feet\n",
        "\n",
        "g4: the amount of lumber produced from fir for Grade 2-plywood, units in board feet\n",
        "\n",
        "g5: the amount of lumber produced from spruce for Grade 3-plywood, units in board feet\n",
        "\n",
        "g6: the amount of lumber produced from fir for Grade 3-plywood, units in board feet"
      ]
    },
    {
      "cell_type": "markdown",
      "id": "d314882c-8e58-4177-a740-676248d7106f",
      "metadata": {},
      "source": [
        "#### Problem 1.2 (1 point)\n",
        "\n",
        "Derive your objective function. Support your function with\n",
        "justifications and/or equations as necessary. You will not receive\n",
        "credit just for the function alone."
      ]
    },
    {
      "cell_type": "markdown",
      "id": "fc758f93",
      "metadata": {},
      "source": [
        "**Objective Function Derivation:** Our goal is to maximize profit from wood sales. So, the objective function can be written as: \n",
        "\n",
        "max(profit) = 0.4(0.5(g1) + 1.5(g2)) + 0.52(g3 + 2(g4)) + 0.70(1.5(g5) + 2(g6)) - 0.12(g1 + g3 + g5) - 0.08(g2 + g4 + g6)\n",
        "\n",
        "This equation can be simplified to: \n",
        "\n",
        "0.08g1 + 0.53g2 + 0.4g3 + 0.96g4 + 0.93g5 + 1.32g6\n",
        "\n",
        "So, I am essentally defining my function as Profit = Revenue - Cost. Thus, here, I am trying to take the sum of the revenue gained from each plywood grade, and subtract away the cost to purchase each board foot of spruce or fir. I converted all units to board feet, which is why we see 0.4, 0.52, and 0.7 for the revenue values. "
      ]
    },
    {
      "cell_type": "markdown",
      "id": "9bd0d34a-7aed-44b9-a665-80fcc1deb56b",
      "metadata": {},
      "source": [
        "#### Problem 1.3 (2 point)\n",
        "\n",
        "Derive any needed constraints. Support your function with justifications\n",
        "and/or equations as necessary. You will not receive credit just for the\n",
        "final constraints alone."
      ]
    },
    {
      "cell_type": "markdown",
      "id": "b031f2fa",
      "metadata": {},
      "source": [
        "Based on the problem, we know there needs to be bounds on the supply of spruce and fir: \n",
        "\n",
        "g1 + g3 + g5 <= 320000 (spruce limit)\n",
        "\n",
        "g2 + g4 + g6 <= 720000 (fir limit)\n",
        "\n",
        "We also need a non-negativity constraint for our variables: \n",
        "\n",
        "g1, g2, g3, g4, g5, g6 > 0"
      ]
    },
    {
      "cell_type": "markdown",
      "id": "b1a9dab5-6afb-4bf6-ad34-3c8979b4d07a",
      "metadata": {},
      "source": [
        "#### Problem 1.4 (1 point)\n",
        "\n",
        "Put this optimization problem in mathematical programming form. For an\n",
        "example of the syntax for this, see lines 82–91\n",
        "[here](https://github.com/vsrikrish/environmental-systems-analysis/blob/Fall23/tutorials/julia-jump.qmd)."
      ]
    },
    {
      "cell_type": "markdown",
      "id": "7dcc6c41",
      "metadata": {},
      "source": [
        "$$\\begin{equation}\n",
        "\\begin{aligned}\n",
        "& \\max_{g1, g2, g3, g4, g5, g6} & 0.4(0.5(g1) + 1.5(g2)) + 0.52(g3 + 2(g4)) + 0.7(1.5(g5) + 2(g6)) - 0.12(g1 + g3 + g5) - 0.08(g2 + g4 + g6)\n",
        "\\\\\n",
        "&\\text{subject to} & \\\\\n",
        "& & g1 + g3 + g5 \\leq 320000\\\\\n",
        "& & g2 + g4 + g6 \\leq 720000\\\\\n",
        "& & g1, g2, g3, g4, g5, g6 \\geq 0\\\\ \n",
        "\\end{aligned} \n",
        "\\end{equation}$$"
      ]
    },
    {
      "cell_type": "markdown",
      "id": "5fb9c116-3b52-46da-87a2-160f3c98676e",
      "metadata": {},
      "source": [
        "### Problem 2: Find the Solution (5 points)"
      ]
    },
    {
      "cell_type": "markdown",
      "id": "c7336df3-bd09-4437-89ad-b9c493528017",
      "metadata": {},
      "source": [
        "#### Problem 2.1 (2 points)\n",
        "\n",
        "Code your linear program using `JuMP`. Feel free to consult [the\n",
        "website’s `JuMP`\n",
        "tutorial](https://viveks.me/environmental-systems-analysis/tutorials/julia-jump.html)\n",
        "for syntax help. The keys:"
      ]
    },
    {
      "cell_type": "markdown",
      "id": "7e6cc359-c7db-4806-a007-e269c7a0bfc9",
      "metadata": {},
      "source": [
        "1.  Initialize your model with a solver; in this case, we’ll use the\n",
        "    `HiGHS` solver, but there are other solvers listed here for\n",
        "    different types of problems, some of which are open and some of\n",
        "    which require a commercial license:\n",
        "    <https://jump.dev/JuMP.jl/stable/installation/#Supported-solvers>:\n",
        "\n",
        "    ``` julia\n",
        "    example_model = Model(HiGHS.Optimizer)\n",
        "    ```\n",
        "\n",
        "2.  Define variables with syntax like\n",
        "\n",
        "    ``` julia\n",
        "    @variable(example_model, 1 >= example_x >= 0)\n",
        "    ```\n",
        "\n",
        "    This will create a variable `example_x` which is constrained to be\n",
        "    between 0 and 1; you can leave off any of the bounds if a variable\n",
        "    is unbounded in a particular direction. You can also add a vector of\n",
        "    variables:\n",
        "\n",
        "    ``` julia\n",
        "    T = 1:3 # define set to index variables\n",
        "    @variable(example_model, 1 >= example_z[t in T] >= 0)\n",
        "    ```\n",
        "\n",
        "    which will create a vector of 3 variables `example_z[1]`, …,\n",
        "    `example_z[3]`, all of which are bounded between 0 and 1.\n",
        "\n",
        "3.  Add an objective with\n",
        "\n",
        "    ``` julia\n",
        "    @objective(example_model, Max, example_x + sum(example_z))\n",
        "    ```\n",
        "\n",
        "    which will add an objective to maximize (replace with `Min` to\n",
        "    minimize).\n",
        "\n",
        "4.  Add constraints:\n",
        "\n",
        "    ``` julia\n",
        "    @constraint(example_model, constraint1, 2example_x + 3*sum(example_z) <= 10)\n",
        "    @constraint(example_model, constraint2, 5example_x - example_z[1] <= 2)\n",
        "    ```\n",
        "\n",
        "    which will name the constraints `constraint1` and `constraint2` (you\n",
        "    should make yours more descriptive about what the constraint\n",
        "    actually is). The value of adding a name is to facilitate later\n",
        "    querying of shadow prices, which we will discuss later. You can also\n",
        "    add a vector of constraints which have similar structure or rely on\n",
        "    different elements of a data vector:\n",
        "\n",
        "    ``` julia\n",
        "    A = [2; 4]\n",
        "    b = [8; 12]\n",
        "    I = 1:2 # set indices for constraint\n",
        "    @constraint(example_model, vector_constraint[i in I], A[i] * sum(example_z) .<= b[i])\n",
        "    ```\n",
        "\n",
        "    You can also define matrices of constraints which depend on two\n",
        "    index sets by generalizing this syntax, e.g.\n",
        "\n",
        "    ``` julia\n",
        "    @constraint(example_model, matrix_constraint[i in I, j in J, ...])\n",
        "    ```\n",
        "\n",
        "    > **Tip**\n",
        "    >\n",
        "    > Specifying higher-dimensional vectors and matrices of variables\n",
        "    > and constraints will be important when we start looking at more\n",
        "    > complex applications, so don’t skip over this! You don’t want to\n",
        "    > manually enter thousands of constraints to ensure hourly\n",
        "    > electricity demand is met…\n",
        "\n",
        "    Finally, you can (and probably should) `print` your model to make\n",
        "    sure that you get something that looks like the equations that you\n",
        "    wrote down (in a notebook, this will be nicely rendered):\n",
        "\n",
        "    ``` julia\n",
        "    print(example_model)\n",
        "    ```\n",
        "\n",
        "    $$ \\begin{aligned}\n",
        "    \\max\\quad & example\\_x + example\\_z_{1} + example\\_z_{2} + example\\_z_{3}\\\\\n",
        "    \\text{Subject to} \\quad & 2 example\\_x + 3 example\\_z_{1} + 3 example\\_z_{2} + 3 example\\_z_{3} \\leq 10\\\\\n",
        "     & 5 example\\_x - example\\_z_{1} \\leq 2\\\\\n",
        "     & 2 example\\_z_{1} + 2 example\\_z_{2} + 2 example\\_z_{3} \\leq 8\\\\\n",
        "     & 4 example\\_z_{1} + 4 example\\_z_{2} + 4 example\\_z_{3} \\leq 12\\\\\n",
        "     & example\\_x \\geq 0\\\\\n",
        "     & example\\_z_{1} \\geq 0\\\\\n",
        "     & example\\_z_{2} \\geq 0\\\\\n",
        "     & example\\_z_{3} \\geq 0\\\\\n",
        "     & example\\_x \\leq 1\\\\\n",
        "     & example\\_z_{1} \\leq 1\\\\\n",
        "     & example\\_z_{2} \\leq 1\\\\\n",
        "     & example\\_z_{3} \\leq 1\\\\\n",
        "    \\end{aligned} $$\n",
        "\n",
        "    > **Define your entire model in one cell**\n",
        "    >\n",
        "    > `JuMP` has great and intuitive syntax, but it doesn’t like\n",
        "    > re-defining variables or constraints once they’ve been set. I\n",
        "    > recommend putting all of your model-definition code (starting from\n",
        "    > `model = Model(...)`) for a particular optimization problem in a\n",
        "    > single notebook cell, so you can re-set up the entire problem with\n",
        "    > a single click when you want to make a change."
      ]
    },
    {
      "cell_type": "code",
      "execution_count": 41,
      "id": "e7f55582",
      "metadata": {},
      "outputs": [
        {
          "name": "stdout",
          "output_type": "stream",
          "text": [
            "Max 0.08000000000000002 g[1] + 0.5200000000000001 g[2] + 0.4 g[3] + 0.9600000000000001 g[4] + 0.9299999999999998 g[5] + 1.3199999999999998 g[6]\n",
            "Subject to\n",
            " spruce_constraint : g[1] + g[3] + g[5] <= 320000\n",
            " fir_constraint : g[2] + g[4] + g[6] <= 720000\n",
            " nonzero_constraint : [g[1], g[2], g[3], g[4], g[5], g[6]] in MathOptInterface.Nonnegatives(6)\n"
          ]
        }
      ],
      "source": [
        "# code the linear program, implement the steps above\n",
        "\n",
        "# step 1: initialize model with solver\n",
        "lumber_profit_model = Model(HiGHS.Optimizer)\n",
        "\n",
        "# step 2: define variables\n",
        "T = 1:6\n",
        "@variable(lumber_profit_model, g[t in T])\n",
        "\n",
        "# step 3: define objective function\n",
        "@objective(lumber_profit_model, Max, \n",
        "0.4*(0.5*(g[1]) + 1.5*(g[2])) + 0.52*(g[3] + 2*(g[4])) + 0.7*(1.5*(g[5]) + 2*(g[6])) - \n",
        "0.12*(g[1] + g[3] + g[5]) - 0.08*(g[2] + g[4] + g[6]))\n",
        "\n",
        "# step 4: add constraints\n",
        "@constraint(lumber_profit_model, spruce_constraint, g[1] + g[3] + g[5] <= 320000)\n",
        "@constraint(lumber_profit_model, fir_constraint, g[2] + g[4] + g[6] <= 720000)\n",
        "@constraint(lumber_profit_model, nonzero_constraint, g[1:6] >= 0) #non-zero constraint\n",
        "\n",
        "# step 5: print the model\n",
        "print(lumber_profit_model)"
      ]
    },
    {
      "cell_type": "markdown",
      "id": "de5ff570-e9ee-40c2-8784-2633d1a4dc0c",
      "metadata": {},
      "source": [
        "#### Problem 2.2 (1 points)\n",
        "\n",
        "Find the solution to your program and find the optimal values of the\n",
        "decision variables. Once you’ve defined your model, you can find the\n",
        "solution with \\`optimize!():"
      ]
    },
    {
      "cell_type": "code",
      "execution_count": 42,
      "id": "5ccbe21b",
      "metadata": {},
      "outputs": [
        {
          "name": "stdout",
          "output_type": "stream",
          "text": [
            "Running HiGHS 1.5.3 [date: 1970-01-01, git hash: 45a127b78]\n",
            "Copyright (c) 2023 HiGHS under MIT licence terms\n",
            "Presolving model\n",
            "2 rows, 6 cols, 6 nonzeros\n",
            "0 rows, 0 cols, 0 nonzeros\n",
            "Presolve : Reductions: rows 0(-8); columns 0(-6); elements 0(-12) - Reduced to empty\n",
            "Solving the original LP from the solution after postsolve\n",
            "Model   status      : Optimal\n",
            "Objective value     :  1.2480000000e+06\n",
            "HiGHS run time      :          0.00\n"
          ]
        }
      ],
      "source": [
        "optimize!(lumber_profit_model)"
      ]
    },
    {
      "cell_type": "markdown",
      "id": "addb8efe-09e7-45cf-8e0d-e78a4f8f4397",
      "metadata": {},
      "source": [
        "> **What if I Get An Error?**\n",
        ">\n",
        "> If `optimize!()` throws an error, that’s usually a sign that something\n",
        "> is wrong with the formulation (for example, a variable might not be\n",
        "> bounded or a constraint might not be specified correctly) or a typo in\n",
        "> the model definition. Linear programs should be well behaved!\n",
        "\n",
        "To find the values of variables after optimizing, use `value.()` (the\n",
        "broadcasting ensures this will work for vector-valued variables as\n",
        "well):"
      ]
    },
    {
      "cell_type": "code",
      "execution_count": 43,
      "id": "36b7a4d7",
      "metadata": {},
      "outputs": [
        {
          "name": "stdout",
          "output_type": "stream",
          "text": [
            "g1 optimal value: -0.0"
          ]
        }
      ],
      "source": [
        "print(\"g1 optimal value: \", value.(g[1]))"
      ]
    },
    {
      "cell_type": "code",
      "execution_count": 44,
      "id": "51a7b14a",
      "metadata": {},
      "outputs": [
        {
          "name": "stdout",
          "output_type": "stream",
          "text": [
            "g2 optimal value: -0.0"
          ]
        }
      ],
      "source": [
        "print(\"g2 optimal value: \", value.(g[2]))"
      ]
    },
    {
      "cell_type": "code",
      "execution_count": 45,
      "id": "e912aa7d",
      "metadata": {},
      "outputs": [
        {
          "name": "stdout",
          "output_type": "stream",
          "text": [
            "g3 optimal value: -0.0"
          ]
        }
      ],
      "source": [
        "print(\"g3 optimal value: \", value.(g[3]))"
      ]
    },
    {
      "cell_type": "code",
      "execution_count": 46,
      "id": "a4eb9974",
      "metadata": {},
      "outputs": [
        {
          "name": "stdout",
          "output_type": "stream",
          "text": [
            "g4 optimal value: -0.0"
          ]
        }
      ],
      "source": [
        "print(\"g4 optimal value: \", value.(g[4]))"
      ]
    },
    {
      "cell_type": "code",
      "execution_count": 47,
      "id": "0f61b0fd",
      "metadata": {},
      "outputs": [
        {
          "name": "stdout",
          "output_type": "stream",
          "text": [
            "g5 optimal value: 320000.0"
          ]
        }
      ],
      "source": [
        "print(\"g5 optimal value: \", value.(g[5]))"
      ]
    },
    {
      "cell_type": "code",
      "execution_count": 48,
      "id": "28c72b13",
      "metadata": {},
      "outputs": [
        {
          "name": "stdout",
          "output_type": "stream",
          "text": [
            "g6 optimal value: 720000.0"
          ]
        }
      ],
      "source": [
        "print(\"g6 optimal value: \", value.(g[6]))"
      ]
    },
    {
      "cell_type": "code",
      "execution_count": 49,
      "id": "16880ba4",
      "metadata": {},
      "outputs": [
        {
          "data": {
            "text/plain": [
              "1-dimensional DenseAxisArray{Float64,1,...} with index sets:\n",
              "    Dimension 1, 1:6\n",
              "And data, a 6-element Vector{Float64}:\n",
              "     -0.0\n",
              "     -0.0\n",
              "     -0.0\n",
              "     -0.0\n",
              " 320000.0\n",
              " 720000.0"
            ]
          },
          "metadata": {},
          "output_type": "display_data"
        }
      ],
      "source": [
        "# all vars to one vector\n",
        "value.(g)"
      ]
    },
    {
      "cell_type": "markdown",
      "id": "7e141d56-9965-499c-a1d6-9fbc565f3abc",
      "metadata": {},
      "source": [
        "#### Problem 2.3 (1 point)\n",
        "\n",
        "How would your profit change if you could buy 1,000 additional bf of\n",
        "spruce? You can answer this by getting the shadow price of a particular\n",
        "variable with:"
      ]
    },
    {
      "cell_type": "code",
      "execution_count": 50,
      "id": "c969ed7f",
      "metadata": {},
      "outputs": [
        {
          "data": {
            "text/plain": [
              "0.9299999999999998"
            ]
          },
          "metadata": {},
          "output_type": "display_data"
        }
      ],
      "source": [
        "shadow_price(spruce_constraint) "
      ]
    },
    {
      "cell_type": "code",
      "execution_count": 51,
      "id": "266ec8ef",
      "metadata": {},
      "outputs": [
        {
          "data": {
            "text/plain": [
              "1.3199999999999998"
            ]
          },
          "metadata": {},
          "output_type": "display_data"
        }
      ],
      "source": [
        "shadow_price(fir_constraint) "
      ]
    },
    {
      "cell_type": "markdown",
      "id": "aa080160",
      "metadata": {},
      "source": [
        "**Response:** Thus, because my code above is in bf, my profit would change by approximately $930 if I could buy 1,000 additional bf of spruce. This is because 0.93*1000 = 930.   "
      ]
    },
    {
      "cell_type": "markdown",
      "id": "0f60ecb1-3610-434e-af1f-02b19850827b",
      "metadata": {},
      "source": [
        "#### Problem 2.4 (1 point)\n",
        "\n",
        "Would you prefer to have 2,000 additional bf of spruce or 1,000\n",
        "additional bf of fir?"
      ]
    },
    {
      "cell_type": "code",
      "execution_count": 52,
      "id": "4d4cb6e6",
      "metadata": {},
      "outputs": [
        {
          "data": {
            "text/plain": [
              "1.8599999999999997"
            ]
          },
          "metadata": {},
          "output_type": "display_data"
        }
      ],
      "source": [
        "shadow_price(spruce_constraint)*2 # 2K more bf spruce"
      ]
    },
    {
      "cell_type": "code",
      "execution_count": 53,
      "id": "47248f85",
      "metadata": {},
      "outputs": [
        {
          "data": {
            "text/plain": [
              "1.3199999999999998"
            ]
          },
          "metadata": {},
          "output_type": "display_data"
        }
      ],
      "source": [
        "shadow_price(fir_constraint) # 1K more bf fir"
      ]
    },
    {
      "cell_type": "markdown",
      "id": "7551dc26",
      "metadata": {},
      "source": [
        "**Response**: I would prefer 2,000 additional bf of spruce as opposed to 1,000 additional bf of fir because 1.86 > 1.32. So, my profit would change by approximately 1,860 dollars if I could buy 2,000 more bf of spruce, as opposed to only changing by 1,320 dollars for 1,000 additional bf of fir. "
      ]
    },
    {
      "cell_type": "markdown",
      "id": "3931edc3-ebed-40fa-abc1-8611323d2dac",
      "metadata": {},
      "source": [
        "## References\n",
        "\n",
        "Put any consulted sources here, including classmates you worked with/who\n",
        "helped you."
      ]
    },
    {
      "cell_type": "markdown",
      "id": "51377db7",
      "metadata": {},
      "source": [
        "I consulted with Yifan Luo to set up problem 1 of this lab. I also asked Gaby questions as I worked on the assignment. \n",
        "\n",
        "I also looked at the tutorial on the course website on Linear Programs before starting this lab. "
      ]
    }
  ],
  "metadata": {
    "kernelspec": {
      "display_name": "Julia 1.9.2",
      "language": "julia",
      "name": "julia-1.9"
    },
    "language_info": {
      "file_extension": ".jl",
      "mimetype": "application/julia",
      "name": "julia",
      "version": "1.9.2"
    }
  },
  "nbformat": 4,
  "nbformat_minor": 5
}
